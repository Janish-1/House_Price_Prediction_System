{
 "cells": [
  {
   "cell_type": "markdown",
   "id": "85246214",
   "metadata": {},
   "source": [
    "# Linear Regression Model"
   ]
  },
  {
   "cell_type": "code",
   "execution_count": 1,
   "id": "8131e99f",
   "metadata": {},
   "outputs": [],
   "source": [
    "# Importing all the Libraries\n",
    "import pandas as pd\n",
    "import numpy as np\n",
    "import matplotlib.pyplot as plt\n",
    "from sklearn.linear_model import LinearRegression\n",
    "from sklearn import linear_model # Import the Calculations that will be used in linear_model\n",
    "from sklearn import metrics # For the Measuring the accuracy of the regression"
   ]
  },
  {
   "cell_type": "markdown",
   "id": "6a4d6ee8",
   "metadata": {},
   "source": [
    "## Reading the Dataset and Cleaning"
   ]
  },
  {
   "cell_type": "code",
   "execution_count": 2,
   "id": "ae55a317",
   "metadata": {},
   "outputs": [],
   "source": [
    "df = pd.read_csv(\"price_data.csv\") # Reading the Dataset\n",
    "x = df['area'].values.reshape(-1,1) # Reshape makes the particular column into a proper array\n",
    "y = df['price'].values.reshape(-1,1) # -1 to 1 implies the whole column as -1 is last and 1 is first element"
   ]
  },
  {
   "cell_type": "markdown",
   "id": "bebcb921",
   "metadata": {},
   "source": [
    "## Training the Model"
   ]
  },
  {
   "cell_type": "code",
   "execution_count": 3,
   "id": "942c3443",
   "metadata": {},
   "outputs": [],
   "source": [
    "reg = linear_model.LinearRegression() # Assigning the linear regression module to reg\n",
    "reg.fit(x,y) # Fits the x and y as positonal arguement in the reg object\n",
    "m = reg.coef_\n",
    "c = reg.intercept_"
   ]
  },
  {
   "cell_type": "code",
   "execution_count": 4,
   "id": "e32148c0",
   "metadata": {},
   "outputs": [
    {
     "data": {
      "text/plain": [
       "(array([[135.78767123]]), array([180616.43835616]))"
      ]
     },
     "execution_count": 4,
     "metadata": {},
     "output_type": "execute_result"
    }
   ],
   "source": [
    "m,c  # Slope and Intercept of x and y"
   ]
  },
  {
   "cell_type": "code",
   "execution_count": 5,
   "id": "09b86aa6",
   "metadata": {},
   "outputs": [
    {
     "data": {
      "text/plain": [
       "array([[533664.38356164],\n",
       "       [587979.45205479],\n",
       "       [615136.98630137],\n",
       "       [669452.05479452],\n",
       "       [723767.12328767]])"
      ]
     },
     "execution_count": 5,
     "metadata": {},
     "output_type": "execute_result"
    }
   ],
   "source": [
    "yp = reg.predict(x) # Predicts the value of y based on x\n",
    "yp"
   ]
  },
  {
   "cell_type": "code",
   "execution_count": 6,
   "id": "2f4ef0a7",
   "metadata": {},
   "outputs": [
    {
     "data": {
      "image/png": "[encoded data removed]",
      "text/plain": [
       "<Figure size 432x288 with 1 Axes>"
      ]
     },
     "metadata": {
      "needs_background": "light"
     },
     "output_type": "display_data"
    }
   ],
   "source": [
    "plt.scatter(x,y) # Scatter plot of original values\n",
    "plt.plot(x,yp) # Predicted Value \n",
    "plt.show()"
   ]
  },
  {
   "cell_type": "code",
   "execution_count": 7,
   "id": "40d307d8",
   "metadata": {},
   "outputs": [
    {
     "data": {
      "text/plain": [
       "0.9584301138199486"
      ]
     },
     "execution_count": 7,
     "metadata": {},
     "output_type": "execute_result"
    }
   ],
   "source": [
    "# Accuracy Score\n",
    "metrics.r2_score(y,yp) # 95.84 % Accurate"
   ]
  },
  {
   "cell_type": "markdown",
   "id": "f689816f",
   "metadata": {},
   "source": [
    "## Testing the Model"
   ]
  },
  {
   "cell_type": "code",
   "execution_count": 8,
   "id": "1347e8e3",
   "metadata": {},
   "outputs": [
    {
     "name": "stdout",
     "output_type": "stream",
     "text": [
      "Enter area for which you want price of: 6000\n",
      "Price of Plot [[995342.46575342]]\n"
     ]
    }
   ],
   "source": [
    "n = int(input(\"Enter area for which you want price of: \"))\n",
    "k = reg.predict([[n]])\n",
    "print(\"Price of Plot {}\".format(k))"
   ]
  },
  {
   "cell_type": "markdown",
   "id": "4d2e00e0",
   "metadata": {},
   "source": [
    "# Multi Line Regression Model"
   ]
  },
  {
   "cell_type": "markdown",
   "id": "82e9d9ae",
   "metadata": {},
   "source": [
    "## Reading and cleaning the data"
   ]
  },
  {
   "cell_type": "code",
   "execution_count": 9,
   "id": "e649d288",
   "metadata": {},
   "outputs": [],
   "source": [
    "df = pd.read_csv(\"multiRprice_data.csv\")"
   ]
  },
  {
   "cell_type": "code",
   "execution_count": 10,
   "id": "815df1f0",
   "metadata": {},
   "outputs": [
    {
     "data": {
      "text/html": [
       "<div>\n",
       "<style scoped>\n",
       "    .dataframe tbody tr th:only-of-type {\n",
       "        vertical-align: middle;\n",
       "    }\n",
       "\n",
       "    .dataframe tbody tr th {\n",
       "        vertical-align: top;\n",
       "    }\n",
       "\n",
       "    .dataframe thead th {\n",
       "        text-align: right;\n",
       "    }\n",
       "</style>\n",
       "<table border=\"1\" class=\"dataframe\">\n",
       "  <thead>\n",
       "    <tr style=\"text-align: right;\">\n",
       "      <th></th>\n",
       "      <th>area</th>\n",
       "      <th>bedroom</th>\n",
       "      <th>age</th>\n",
       "      <th>price</th>\n",
       "    </tr>\n",
       "  </thead>\n",
       "  <tbody>\n",
       "    <tr>\n",
       "      <th>0</th>\n",
       "      <td>2600</td>\n",
       "      <td>3.0</td>\n",
       "      <td>20</td>\n",
       "      <td>550000</td>\n",
       "    </tr>\n",
       "    <tr>\n",
       "      <th>1</th>\n",
       "      <td>3000</td>\n",
       "      <td>4.0</td>\n",
       "      <td>15</td>\n",
       "      <td>565000</td>\n",
       "    </tr>\n",
       "    <tr>\n",
       "      <th>2</th>\n",
       "      <td>3200</td>\n",
       "      <td>3.5</td>\n",
       "      <td>18</td>\n",
       "      <td>610000</td>\n",
       "    </tr>\n",
       "    <tr>\n",
       "      <th>3</th>\n",
       "      <td>3600</td>\n",
       "      <td>3.0</td>\n",
       "      <td>30</td>\n",
       "      <td>680000</td>\n",
       "    </tr>\n",
       "    <tr>\n",
       "      <th>4</th>\n",
       "      <td>4000</td>\n",
       "      <td>5.0</td>\n",
       "      <td>8</td>\n",
       "      <td>725000</td>\n",
       "    </tr>\n",
       "  </tbody>\n",
       "</table>\n",
       "</div>"
      ],
      "text/plain": [
       "   area  bedroom  age   price\n",
       "0  2600      3.0   20  550000\n",
       "1  3000      4.0   15  565000\n",
       "2  3200      3.5   18  610000\n",
       "3  3600      3.0   30  680000\n",
       "4  4000      5.0    8  725000"
      ]
     },
     "execution_count": 10,
     "metadata": {},
     "output_type": "execute_result"
    }
   ],
   "source": [
    "x = df['bedroom'].median()\n",
    "df.fillna(x,inplace = True) # Filling the Missing Values in the Data\n",
    "df"
   ]
  },
  {
   "cell_type": "markdown",
   "id": "81c5f065",
   "metadata": {},
   "source": [
    "## Training the Model"
   ]
  },
  {
   "cell_type": "code",
   "execution_count": 11,
   "id": "1e808697",
   "metadata": {},
   "outputs": [],
   "source": [
    "reg = linear_model.LinearRegression()\n",
    "y = reg.fit(df[['area','bedroom','age']],df['price'])"
   ]
  },
  {
   "cell_type": "code",
   "execution_count": 12,
   "id": "71be4c88",
   "metadata": {},
   "outputs": [
    {
     "name": "stdout",
     "output_type": "stream",
     "text": [
      "[   180.19345472 -60375.92214723  -4060.587035  ]\n",
      "332259.0645110657\n"
     ]
    }
   ],
   "source": [
    "print(reg.coef_)\n",
    "print(reg.intercept_)"
   ]
  },
  {
   "cell_type": "code",
   "execution_count": 13,
   "id": "62c54999",
   "metadata": {},
   "outputs": [],
   "source": [
    "x1 = df['area'].values.reshape(-1,1)\n",
    "x2 = df['bedroom'].values.reshape(-1,1)\n",
    "x3 = df['age'].values.reshape(-1,1)\n",
    "y1 = df['price'].values.reshape(-1,1)"
   ]
  },
  {
   "cell_type": "code",
   "execution_count": 14,
   "id": "2567589c",
   "metadata": {},
   "outputs": [
    {
     "data": {
      "text/plain": [
       "array([538422.53963271, 570426.93454717, 624471.82545911, 678010.12399937,\n",
       "       718668.57636164])"
      ]
     },
     "execution_count": 14,
     "metadata": {},
     "output_type": "execute_result"
    }
   ],
   "source": [
    "yp = reg.predict(df[['area','bedroom','age']])\n",
    "yp # Array of Predicted Values"
   ]
  },
  {
   "cell_type": "code",
   "execution_count": 15,
   "id": "670b0715",
   "metadata": {},
   "outputs": [
    {
     "data": {
      "text/plain": [
       "0.9810924185456914"
      ]
     },
     "execution_count": 15,
     "metadata": {},
     "output_type": "execute_result"
    }
   ],
   "source": [
    "metrics.r2_score(yp,df['price']) # Accuracy Score of the Model is 98.10 %"
   ]
  },
  {
   "cell_type": "markdown",
   "id": "3803ad93",
   "metadata": {},
   "source": [
    "## Testing the Model"
   ]
  },
  {
   "cell_type": "code",
   "execution_count": 16,
   "id": "2bdca246",
   "metadata": {},
   "outputs": [
    {
     "name": "stderr",
     "output_type": "stream",
     "text": [
      "D:\\Anaconda\\lib\\site-packages\\sklearn\\base.py:450: UserWarning: X does not have valid feature names, but LinearRegression was fitted with feature names\n",
      "  warnings.warn(\n"
     ]
    },
    {
     "data": {
      "text/plain": [
       "array([846074.39962329])"
      ]
     },
     "execution_count": 16,
     "metadata": {},
     "output_type": "execute_result"
    }
   ],
   "source": [
    "reg.predict([[5000,5,21]])"
   ]
  },
  {
   "cell_type": "code",
   "execution_count": 20,
   "id": "a69f0b72",
   "metadata": {},
   "outputs": [
    {
     "name": "stdout",
     "output_type": "stream",
     "text": [
      "5000 5 21\n"
     ]
    },
    {
     "name": "stderr",
     "output_type": "stream",
     "text": [
      "D:\\Anaconda\\lib\\site-packages\\sklearn\\base.py:450: UserWarning: X does not have valid feature names, but LinearRegression was fitted with feature names\n",
      "  warnings.warn(\n"
     ]
    },
    {
     "data": {
      "text/plain": [
       "array([846074.39962329])"
      ]
     },
     "execution_count": 20,
     "metadata": {},
     "output_type": "execute_result"
    }
   ],
   "source": [
    "x,y,z = map(int,input().split())\n",
    "reg.predict([[x,y,z]])"
   ]
  },
  {
   "cell_type": "code",
   "execution_count": null,
   "id": "40fbe363",
   "metadata": {},
   "outputs": [],
   "source": []
  }
 ],
 "metadata": {
  "kernelspec": {
   "display_name": "Python 3 (ipykernel)",
   "language": "python",
   "name": "python3"
  },
  "language_info": {
   "codemirror_mode": {
    "name": "ipython",
    "version": 3
   },
   "file_extension": ".py",
   "mimetype": "text/x-python",
   "name": "python",
   "nbconvert_exporter": "python",
   "pygments_lexer": "ipython3",
   "version": "3.9.7"
  }
 },
 "nbformat": 4,
 "nbformat_minor": 5
}
